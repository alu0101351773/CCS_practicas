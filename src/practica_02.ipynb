{
 "cells": [
  {
   "cell_type": "markdown",
   "metadata": {},
   "source": [
    "# Código"
   ]
  },
  {
   "cell_type": "code",
   "execution_count": 31,
   "metadata": {},
   "outputs": [],
   "source": [
    "def ROTL(a, b):\n",
    "    return ((a << b) | (a >> (32 - b))) & 0xffffffff # 32 bits fix for python"
   ]
  },
  {
   "cell_type": "code",
   "execution_count": 32,
   "metadata": {},
   "outputs": [],
   "source": [
    "def QR(a, b, c, d):\n",
    "    # Paso 1\n",
    "    a += b; d ^= a; d = ROTL(d, 16)\n",
    "\n",
    "    # Paso 2\n",
    "    c += d; b ^= c; b = ROTL(b, 12)\n",
    "\n",
    "    # Paso 3\n",
    "    a += b; d ^= a; d = ROTL(d, 8)\n",
    "\n",
    "    # Paso 4\n",
    "    c += d; b ^= c; b = ROTL(b, 7)\n",
    "\n",
    "    return a, b, c, d"
   ]
  },
  {
   "cell_type": "code",
   "execution_count": 33,
   "metadata": {},
   "outputs": [],
   "source": [
    "def chacha_block(matrix_in: list[int]) -> list[int]:\n",
    "    ROUNDS = 20\n",
    "    matrix_copy = matrix_in.copy()\n",
    "\n",
    "    for i in range(0, ROUNDS, 2):\n",
    "        # Column rounds\n",
    "        for j in range(4):\n",
    "            matrix_copy[j], matrix_copy[j+4], matrix_copy[j+8], matrix_copy[j+12] = QR(matrix_copy[j], matrix_copy[j+4], matrix_copy[j+8], matrix_copy[j+12])\n",
    "\n",
    "        # Diagonal rounds\n",
    "        # Si, no lo he podido hacer más bonito\n",
    "        matrix_copy[0], matrix_copy[5], matrix_copy[10], matrix_copy[15] = QR(matrix_copy[0], matrix_copy[5], matrix_copy[10], matrix_copy[15])\n",
    "        matrix_copy[1], matrix_copy[6], matrix_copy[11], matrix_copy[12] = QR(matrix_copy[1], matrix_copy[6], matrix_copy[11], matrix_copy[12])\n",
    "        matrix_copy[2], matrix_copy[7], matrix_copy[8], matrix_copy[13] = QR(matrix_copy[2], matrix_copy[7], matrix_copy[8], matrix_copy[13])\n",
    "        matrix_copy[3], matrix_copy[4], matrix_copy[9], matrix_copy[14] = QR(matrix_copy[3], matrix_copy[4], matrix_copy[9], matrix_copy[14])\n",
    "    \n",
    "    # Sum the matrix with the original matrix\n",
    "    for i in range(16):\n",
    "        matrix_copy[i] += matrix_in[i]\n",
    "    \n",
    "    return matrix_copy"
   ]
  },
  {
   "cell_type": "markdown",
   "metadata": {},
   "source": [
    "# Pregunta"
   ]
  },
  {
   "cell_type": "markdown",
   "metadata": {},
   "source": [
    "## ¿Cuál es la 1ª palabra de la salida de la 1ª iteración de QR aplicada sobre la 1ª columna?"
   ]
  },
  {
   "cell_type": "code",
   "execution_count": 35,
   "metadata": {},
   "outputs": [
    {
     "name": "stdout",
     "output_type": "stream",
     "text": [
      "\n",
      "    a = 0xb77770eb\n",
      "    b = 0x39825c66\n",
      "    c = 0x9a75fc3e\n",
      "    d = 0x12109bcf\n",
      "\n"
     ]
    }
   ],
   "source": [
    "result = QR(\n",
    "    a = 0x61707865,\n",
    "    b = 0x00000000,\n",
    "    c = 0x0fffffff,\n",
    "    d = 0x01000000\n",
    ")\n",
    "\n",
    "print(f'''\n",
    "    a = {hex(result[0])}\n",
    "    b = {hex(result[1])}\n",
    "    c = {hex(result[2])}\n",
    "    d = {hex(result[3])}\n",
    "''')"
   ]
  }
 ],
 "metadata": {
  "kernelspec": {
   "display_name": "Python 3",
   "language": "python",
   "name": "python3"
  },
  "language_info": {
   "codemirror_mode": {
    "name": "ipython",
    "version": 3
   },
   "file_extension": ".py",
   "mimetype": "text/x-python",
   "name": "python",
   "nbconvert_exporter": "python",
   "pygments_lexer": "ipython3",
   "version": "3.10.11"
  },
  "orig_nbformat": 4
 },
 "nbformat": 4,
 "nbformat_minor": 2
}
