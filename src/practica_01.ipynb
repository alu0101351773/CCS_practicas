{
 "cells": [
  {
   "cell_type": "markdown",
   "metadata": {},
   "source": [
    "# Práctica 1: Implementación básica de sistema de cifrado y ataque por fuerza bruta"
   ]
  },
  {
   "cell_type": "markdown",
   "metadata": {},
   "source": [
    "## 1. Implementación de métodos de sustitución"
   ]
  },
  {
   "cell_type": "markdown",
   "metadata": {},
   "source": [
    "* Realizar en pseudocódigo los pasos necesarios para generar un cifrado por sustitución empleando el siguiente alfabeto de sustitución:\n",
    "\n",
    "```\n",
    "“ÑOPQRSTUVWXYZABCDEFGHIJKLMN”\n",
    "```"
   ]
  },
  {
   "cell_type": "raw",
   "metadata": {},
   "source": []
  },
  {
   "cell_type": "markdown",
   "metadata": {},
   "source": [
    "* Implementar el algoritmo anterior en Python usando Google Collab. El programa debe solicitar la siguiente información:\n",
    "    * Mensaje a cifrar\n",
    "    * Mecanismo a aplicar: Cifrado o Descifrado"
   ]
  },
  {
   "cell_type": "code",
   "execution_count": null,
   "metadata": {},
   "outputs": [],
   "source": []
  },
  {
   "cell_type": "markdown",
   "metadata": {},
   "source": [
    "* ¿Qué mensaje resulta al descifrar el siguiente texto?\n",
    "\n",
    "```\n",
    "“IA QVÑ JV IAÑ JÑPÑ JRGHVQÑ QR IAVSCFZR”\n",
    "```"
   ]
  },
  {
   "cell_type": "markdown",
   "metadata": {},
   "source": [
    "## 2. Cifrado César y ataque por fuerza bruta"
   ]
  }
 ],
 "metadata": {
  "language_info": {
   "name": "python"
  },
  "orig_nbformat": 4
 },
 "nbformat": 4,
 "nbformat_minor": 2
}
