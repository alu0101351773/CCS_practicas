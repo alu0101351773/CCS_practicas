{
 "cells": [
  {
   "cell_type": "markdown",
   "metadata": {},
   "source": [
    "# Práctica 1: Implementación básica de sistema de cifrado y ataque por fuerza bruta"
   ]
  },
  {
   "cell_type": "markdown",
   "metadata": {},
   "source": [
    "## 1. Implementación de métodos de sustitución"
   ]
  },
  {
   "cell_type": "markdown",
   "metadata": {},
   "source": [
    "* Realizar en pseudocódigo los pasos necesarios para generar un cifrado por sustitución empleando el siguiente alfabeto de sustitución:\n",
    "\n",
    "```\n",
    "“ÑOPQRSTUVWXYZABCDEFGHIJKLMN”\n",
    "```"
   ]
  },
  {
   "cell_type": "markdown",
   "metadata": {},
   "source": [
    "```\n",
    "Guardar el alfabeto original en una lista en el mismo orden que leemos\n",
    "Guardar el alfabeto nuevo en una lista en el mismo orden que leemos\n",
    "\n",
    "Crear una variable donde guardar el texto cifrado\n",
    "\n",
    "Si se indica descifrado, intercambiamos los alfabetos\n",
    "\n",
    "Para cada letra del texto original:\n",
    "    Se busca su posición en el diccionario original\n",
    "        Se guarda como 'index'\n",
    "    Se va al diccionario de encriptado\n",
    "    Se busca aquella letra tal que su posición sea igual a 'index'\n",
    "        Se guarda dicha letra en la variable modificada\n",
    "```"
   ]
  },
  {
   "cell_type": "markdown",
   "metadata": {},
   "source": [
    "* Implementar el algoritmo anterior en Python usando Google Collab. El programa debe solicitar la siguiente información:\n",
    "    * Mensaje a cifrar\n",
    "    * Mecanismo a aplicar: Cifrado o Descifrado"
   ]
  },
  {
   "cell_type": "code",
   "execution_count": null,
   "metadata": {},
   "outputs": [],
   "source": [
    "original_alphabet_t = 'ABCDEFGHIJKLMNÑOPQRSTUVWXYZ'\n",
    "cipher_alphabet_t = 'ÑOPQRSTUVWXYZABCDEFGHIJKLMN'\n",
    "\n",
    "def basic_sustitution_cipher(original_text: str, og_alphabet: str, cphr_alphabet: str, cipher: bool) -> str:\n",
    "    result = ''\n",
    "    if not cipher:\n",
    "        cphr_alphabet, og_alphabet = og_alphabet, cphr_alphabet\n",
    "    for char in original_text:\n",
    "        if char.isalpha():\n",
    "            index = og_alphabet.find(char)\n",
    "            modif_char = cphr_alphabet[index]\n",
    "            result += modif_char\n",
    "        else:\n",
    "            result += char\n",
    "    return result"
   ]
  },
  {
   "cell_type": "markdown",
   "metadata": {},
   "source": [
    "* ¿Qué mensaje resulta al descifrar el siguiente texto?\n",
    "\n",
    "```\n",
    "“IA QVÑ JV IAÑ JÑPÑ JRGHVQÑ QR IAVSCFZR”\n",
    "```"
   ]
  },
  {
   "cell_type": "code",
   "execution_count": null,
   "metadata": {},
   "outputs": [],
   "source": [
    "message = basic_sustitution_cipher(\n",
    "    original_text = 'IA QVÑ JV IAÑ JÑPÑ JRGHVQÑ QR IAVSCFZR',\n",
    "    og_alphabet = original_alphabet_t,\n",
    "    cphr_alphabet = cipher_alphabet_t,\n",
    "    cipher = False\n",
    ")\n",
    "\n",
    "print(f'Mensaje original: {message}')"
   ]
  },
  {
   "cell_type": "markdown",
   "metadata": {},
   "source": [
    "* ¿Qué modificaciones serían necesarias para utilizar 2 alfabetos de sustitución, de tal manera que las letras impares utilizaran el primer alfabeto y las pares el segundo alfabeto?"
   ]
  },
  {
   "cell_type": "markdown",
   "metadata": {},
   "source": [
    "```\n",
    "Añadiría una comprobación al bucle principal de que, si el índice del caracter a desencriptar es un índice par, se desencripte el primer alfabeto, y si es impar, el segundo.\n",
    "\n",
    "Si quisiera ser lo más correcto al enunciado, debería forzar al bucle a comenzar por el valor i = 1, para que los caracteres impares (como el primero) sean desencriptados por el primer alfabeto, y los pares por el segundo, pero soy un purista y prefiero los bucles que comienzan en 0.\n",
    "```"
   ]
  },
  {
   "cell_type": "markdown",
   "metadata": {},
   "source": [
    "* Realiza un programa en python que permita el cifrado en base a estos 2 alfabetos de sustitución según lo indicado en el apartado anterior:\n",
    "\n",
    "| Alfabeto 1 | Alfabeto 2 |\n",
    "|--------|--------|\n",
    "|`ÑOPQRSTUVWXYZABCDEFGHIJKLMN`|`ZYXWVUTSRQPOÑNMLKJIHGFEDCBA`|"
   ]
  },
  {
   "cell_type": "code",
   "execution_count": null,
   "metadata": {},
   "outputs": [],
   "source": [
    "def dual_sustitution_cipher(og_text: str, og_alphabet: str, cphr_alphabet_1: str, cphr_alphabet_2: str, cipher: bool = True) -> str:\n",
    "    result = ''\n",
    "    for i, char in enumerate(og_text):\n",
    "            \n",
    "        if char.isalpha() and (char in cphr_alphabet_1 or char in cphr_alphabet_2):\n",
    "            if cipher:\n",
    "                index = og_alphabet.find(char)\n",
    "                result += cphr_alphabet_1[index] if i % 2 == 0 else cphr_alphabet_2[index]\n",
    "            else:\n",
    "                index = cphr_alphabet_1.find(char) if i % 2 == 0 else cphr_alphabet_2.find(char)\n",
    "                modif_char = og_alphabet[index]\n",
    "                result += modif_char\n",
    "        else:\n",
    "            result += char\n",
    "    return result"
   ]
  },
  {
   "cell_type": "markdown",
   "metadata": {},
   "source": [
    "* ¿Qué mensaje oculta el texto siguiente?"
   ]
  },
  {
   "cell_type": "code",
   "execution_count": null,
   "metadata": {},
   "outputs": [],
   "source": [
    "message = dual_sustitution_cipher(\n",
    "    og_text = 'GR SÑH OYVTZQL SÑHHZ ZEFÍ HV VGKRIÑN IRGCH ÑIB RAGRIRHÑNHVG RN GI SFHFFL KFLLRZL',\n",
    "    og_alphabet =     'ABCDEFGHIJKLMNÑOPQRSTUVWXYZ',\n",
    "    cphr_alphabet_1 = 'ÑOPQRSTUVWXYZABCDEFGHIJKLMN',\n",
    "    cphr_alphabet_2 = 'ZYXWVUTSRQPOÑNMLKJIHGFEDCBA',\n",
    "    cipher = False\n",
    ")\n",
    "\n",
    "print(f'Mensaje original: {message}')"
   ]
  },
  {
   "cell_type": "markdown",
   "metadata": {},
   "source": [
    "## 2. Cifrado César y ataque por fuerza bruta"
   ]
  },
  {
   "cell_type": "markdown",
   "metadata": {},
   "source": [
    "* Realizar en pseudocódigo los pasos necesarios para implementar un cifrado César"
   ]
  },
  {
   "cell_type": "markdown",
   "metadata": {},
   "source": [
    "```\n",
    "Tomo el alfabeto original y lo guardo en una lista\n",
    "\n",
    "Establezco un valor de desplazamiento (shift) a introducir por el usuario\n",
    "\n",
    "Creo una variable para guardar el texto cifrado (o descifrado en caso de que el algoritmo se ejecute en modo descifrado)\n",
    "\n",
    "Para cada letra del texto original:\n",
    "    Si estamos en modo cifrado:\n",
    "        aplicamos un desplazamiento a la letra igual al 'shift', módulo de la longitud del alfabeto para no pasarse\n",
    "    Si estamos en modo descifrado:\n",
    "        Aplicamos un desplazamiento negativo a la letra igual al 'shift', módulo de la longitud del alfabeto para no pasarse\n",
    "    Guardamos la letra en la variable modificada\n",
    "\n",
    "Retornamos la variable modificada\n",
    "```"
   ]
  },
  {
   "cell_type": "markdown",
   "metadata": {},
   "source": [
    "* Trasladar el pseudocódigo a un programa en Python con las siguientes características:\n",
    "    * Utilizará un alfabeto de 27 caracteres: `ABCDEFGHIJKLMNÑOPQRSTUVWXYZ`\n",
    "    * Debe solicitar el mensaje a cifrar y la clave a utilizar\n",
    "    * Como salida del programa, se debe mostrar en pantalla el mensaje original y el mensaje cifrado"
   ]
  },
  {
   "cell_type": "code",
   "execution_count": null,
   "metadata": {},
   "outputs": [],
   "source": [
    "def caesar_cypher(og_text: str, key: int = 0, cypher: bool = True) -> str:\n",
    "    ALPHABET = 'ABCDEFGHIJKLMNÑOPQRSTUVWXYZ'\n",
    "    \n",
    "    og_text = og_text.upper()\n",
    "    result = ''\n",
    "    if not cypher:\n",
    "        key = -key\n",
    "    for char in og_text:\n",
    "        if char.isalpha():\n",
    "            index = ALPHABET.find(char)\n",
    "            if index != -1:\n",
    "                modif_char = ALPHABET[(index + key) % len(ALPHABET)]\n",
    "                result += modif_char\n",
    "            else:\n",
    "                result += char\n",
    "        else:\n",
    "            result += char\n",
    "    return [og_text, result]"
   ]
  },
  {
   "cell_type": "code",
   "execution_count": null,
   "metadata": {},
   "outputs": [],
   "source": [
    "message, cyphered_message = caesar_cypher(\n",
    "    og_text = 'HELLO, WORLD!',\n",
    "    key = 3\n",
    ")\n",
    "\n",
    "print(f'Caesar cypher: {message} -> {cyphered_message}')"
   ]
  }
 ],
 "metadata": {
  "kernelspec": {
   "display_name": "Python 3",
   "language": "python",
   "name": "python3"
  },
  "language_info": {
   "codemirror_mode": {
    "name": "ipython",
    "version": 3
   },
   "file_extension": ".py",
   "mimetype": "text/x-python",
   "name": "python",
   "nbconvert_exporter": "python",
   "pygments_lexer": "ipython3",
   "version": "3.11.5"
  },
  "orig_nbformat": 4
 },
 "nbformat": 4,
 "nbformat_minor": 2
}
